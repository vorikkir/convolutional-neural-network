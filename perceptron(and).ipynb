{
  "nbformat": 4,
  "nbformat_minor": 0,
  "metadata": {
    "colab": {
      "name": "perceptron(and).ipynb",
      "provenance": [],
      "collapsed_sections": [],
      "authorship_tag": "ABX9TyPYBvOqJfEsxruGO0NBumoW",
      "include_colab_link": true
    },
    "kernelspec": {
      "name": "python3",
      "display_name": "Python 3"
    }
  },
  "cells": [
    {
      "cell_type": "markdown",
      "metadata": {
        "id": "view-in-github",
        "colab_type": "text"
      },
      "source": [
        "<a href=\"https://colab.research.google.com/github/vorikkir/convolutional-neural-network/blob/master/perceptron(and).ipynb\" target=\"_parent\"><img src=\"https://colab.research.google.com/assets/colab-badge.svg\" alt=\"Open In Colab\"/></a>"
      ]
    },
    {
      "cell_type": "markdown",
      "metadata": {
        "id": "MjC8Ovx2_ErB",
        "colab_type": "text"
      },
      "source": [
        "***Построение перцептрона. Обучение нейросети выполнять логическую операцию AND***"
      ]
    },
    {
      "cell_type": "code",
      "metadata": {
        "id": "6wx5mCvU_ceY",
        "colab_type": "code",
        "colab": {}
      },
      "source": [
        "import numpy as np\n",
        "\n",
        "# X - массив входных значений\n",
        "X = np.array([[0, 0],\n",
        "            [1, 0],\n",
        "            [0, 1],\n",
        "            [1, 1]])\n",
        "\n",
        "# Y - массив эталонных значений\n",
        "Y = np.array([0, 0, 0, 1])"
      ],
      "execution_count": null,
      "outputs": []
    },
    {
      "cell_type": "code",
      "metadata": {
        "id": "QUG-HI7HActi",
        "colab_type": "code",
        "colab": {}
      },
      "source": [
        "# создадим массив со значениями смещений\n",
        "arr_bias = np.ones((4, 1), dtype=int)\n",
        "\n",
        "# добавим к массиву входных значений массив смещений\n",
        "X = np.append(X, arr_bias, axis=1)\n",
        "\n",
        "# w - рандомные начальные значения весов для входных значений\n",
        "w = np.random.rand(3)"
      ],
      "execution_count": null,
      "outputs": []
    },
    {
      "cell_type": "code",
      "metadata": {
        "id": "KBLXXC82BEvz",
        "colab_type": "code",
        "colab": {
          "base_uri": "https://localhost:8080/",
          "height": 34
        },
        "outputId": "2856986c-f584-4e9d-ecf8-4dd832085f31"
      },
      "source": [
        "# функция активации\n",
        "activate = lambda sum: 0 if sum < 0 else 1\n",
        "\n",
        "# скорость обучения\n",
        "lr = 2e-1 \n",
        "# количество итераций обучения\n",
        "N = 200\n",
        "\n",
        "for i in range(N):\n",
        "    # рандомное число от 0 до 3 для определения индекса примера из массива Х\n",
        "    rndm = np.random.randint(4)\n",
        "    # присвоение значения переменной по сгенерированному индексу\n",
        "    element_x = X[rndm]\n",
        "    expected = Y[rndm]\n",
        "    # произведение входного значения (Х) на вес (W)\n",
        "    result = np.dot(W, element_x)\n",
        "    # вычисление ошибки \n",
        "    error = expected - activate(result)\n",
        "    # изменение весов\n",
        "    for i in range(len(W)):\n",
        "        W[i] += lr * error * element_x[i]\n",
        "print(W)"
      ],
      "execution_count": null,
      "outputs": [
        {
          "output_type": "stream",
          "text": [
            "[ 0.36491933  0.48701293 -0.75695671]\n"
          ],
          "name": "stdout"
        }
      ]
    },
    {
      "cell_type": "code",
      "metadata": {
        "id": "IhfpiVnVCVnl",
        "colab_type": "code",
        "colab": {
          "base_uri": "https://localhost:8080/",
          "height": 85
        },
        "outputId": "e6af8832-021c-4be4-aba5-c1f3e5c5eab6"
      },
      "source": [
        "# вывод результата тренировки\n",
        "for element_x in X:\n",
        "    result = np.dot(element_x, W)\n",
        "    print(\"{}: {} -> {}\".format(element_x[:2], result, activate(result)))"
      ],
      "execution_count": null,
      "outputs": [
        {
          "output_type": "stream",
          "text": [
            "[0 0]: -0.756956706333541 -> 0\n",
            "[1 0]: -0.39203737509955433 -> 0\n",
            "[0 1]: -0.26994377738289893 -> 0\n",
            "[1 1]: 0.09497555385108769 -> 1\n"
          ],
          "name": "stdout"
        }
      ]
    }
  ]
}